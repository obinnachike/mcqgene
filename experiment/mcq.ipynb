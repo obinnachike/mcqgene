{
 "cells": [
  {
   "cell_type": "code",
   "execution_count": 1,
   "id": "1cf1e5ca",
   "metadata": {},
   "outputs": [],
   "source": [
    "import os\n",
    "import json\n",
    "import pandas as pd\n",
    "import traceback"
   ]
  },
  {
   "cell_type": "code",
   "execution_count": 6,
   "id": "394525aa",
   "metadata": {},
   "outputs": [],
   "source": [
    "import langchain_openai\n",
    "from langchain_openai import ChatOpenAI\n"
   ]
  },
  {
   "cell_type": "code",
   "execution_count": 9,
   "id": "3c2ce2c1",
   "metadata": {},
   "outputs": [
    {
     "data": {
      "text/plain": [
       "True"
      ]
     },
     "execution_count": 9,
     "metadata": {},
     "output_type": "execute_result"
    }
   ],
   "source": [
    "from dotenv import load_dotenv\n",
    "\n",
    "load_dotenv()"
   ]
  },
  {
   "cell_type": "code",
   "execution_count": 10,
   "id": "a5ce3cd7",
   "metadata": {},
   "outputs": [],
   "source": [
    "KEY=os.getenv(\"OPENAI_API_KEY\")\n"
   ]
  },
  {
   "cell_type": "code",
   "execution_count": 12,
   "id": "812edbd0",
   "metadata": {},
   "outputs": [],
   "source": [
    "llm=ChatOpenAI(openai_api_key=KEY,model_name=\"gpt-3.5-turbo\", temperature=0.5)"
   ]
  },
  {
   "cell_type": "code",
   "execution_count": 13,
   "id": "e79a003f",
   "metadata": {},
   "outputs": [
    {
     "data": {
      "text/plain": [
       "ChatOpenAI(client=<openai.resources.chat.completions.completions.Completions object at 0x11dc38710>, async_client=<openai.resources.chat.completions.completions.AsyncCompletions object at 0x11e549ac0>, root_client=<openai.OpenAI object at 0x11d71da00>, root_async_client=<openai.AsyncOpenAI object at 0x11e49a8d0>, temperature=0.5, model_kwargs={}, openai_api_key=SecretStr('**********'))"
      ]
     },
     "execution_count": 13,
     "metadata": {},
     "output_type": "execute_result"
    }
   ],
   "source": [
    "llm"
   ]
  },
  {
   "cell_type": "code",
   "execution_count": 15,
   "id": "e7bc9e21",
   "metadata": {},
   "outputs": [],
   "source": [
    "\n",
    "from langchain.llms import OpenAI\n",
    "from langchain.prompts import PromptTemplate\n",
    "from langchain.chains import LLMChain\n",
    "from langchain.chains import SequentialChain\n",
    "from langchain.callbacks import get_openai_callback\n",
    "import PyPDF2"
   ]
  },
  {
   "cell_type": "code",
   "execution_count": 16,
   "id": "58be2fc0",
   "metadata": {},
   "outputs": [],
   "source": [
    "RESPONSE_JSON = {\n",
    "    \"1\": {\n",
    "        \"mcq\": \"multiple choice question\",\n",
    "        \"options\": {\n",
    "            \"a\": \"choice here\",\n",
    "            \"b\": \"choice here\",\n",
    "            \"c\": \"choice here\",\n",
    "            \"d\": \"choice here\",\n",
    "        },\n",
    "        \"correct\": \"correct answer\",\n",
    "    },\n",
    "    \"2\": {\n",
    "        \"mcq\": \"multiple choice question\",\n",
    "        \"options\": {\n",
    "            \"a\": \"choice here\",\n",
    "            \"b\": \"choice here\",\n",
    "            \"c\": \"choice here\",\n",
    "            \"d\": \"choice here\",\n",
    "        },\n",
    "        \"correct\": \"correct answer\",\n",
    "    },\n",
    "    \"3\": {\n",
    "        \"mcq\": \"multiple choice question\",\n",
    "        \"options\": {\n",
    "            \"a\": \"choice here\",\n",
    "            \"b\": \"choice here\",\n",
    "            \"c\": \"choice here\",\n",
    "            \"d\": \"choice here\",\n",
    "        },\n",
    "        \"correct\": \"correct answer\",\n",
    "    },\n",
    "}"
   ]
  },
  {
   "cell_type": "code",
   "execution_count": 17,
   "id": "a5eaa3c3",
   "metadata": {},
   "outputs": [],
   "source": [
    "TEMPLATE=\"\"\"\n",
    "Text:{text}\n",
    "You are an expert MCQ maker. Given the above text, it is your job to \\\n",
    "create a quiz  of {number} multiple choice questions for {subject} students in {tone} tone. \n",
    "Make sure the questions are not repeated and check all the questions to be conforming the text as well.\n",
    "Make sure to format your response like  RESPONSE_JSON below  and use it as a guide. \\\n",
    "Ensure to make {number} MCQs\n",
    "### RESPONSE_JSON\n",
    "{response_json}\n",
    "\n",
    "\"\"\""
   ]
  },
  {
   "cell_type": "code",
   "execution_count": 18,
   "id": "0767e4f5",
   "metadata": {},
   "outputs": [],
   "source": [
    "quiz_generation_prompt = PromptTemplate(\n",
    "    input_variables=[\"text\", \"number\", \"subject\", \"tone\", \"response_json\"],\n",
    "    template=TEMPLATE\n",
    "    )"
   ]
  },
  {
   "cell_type": "code",
   "execution_count": 19,
   "id": "1d42fbe9",
   "metadata": {},
   "outputs": [
    {
     "name": "stderr",
     "output_type": "stream",
     "text": [
      "/var/folders/hm/5z1ct5rn1ts5_kqmggzhb1nh0000gn/T/ipykernel_48206/2669661367.py:1: LangChainDeprecationWarning: The class `LLMChain` was deprecated in LangChain 0.1.17 and will be removed in 1.0. Use :meth:`~RunnableSequence, e.g., `prompt | llm`` instead.\n",
      "  quiz_chain=LLMChain(llm=llm, prompt=quiz_generation_prompt, output_key=\"quiz\", verbose=True)\n"
     ]
    }
   ],
   "source": [
    "quiz_chain=LLMChain(llm=llm, prompt=quiz_generation_prompt, output_key=\"quiz\", verbose=True)"
   ]
  },
  {
   "cell_type": "code",
   "execution_count": 20,
   "id": "1efdb23b",
   "metadata": {},
   "outputs": [],
   "source": [
    "TEMPLATE2=\"\"\"\n",
    "You are an expert english grammarian and writer. Given a Multiple Choice Quiz for {subject} students.\\\n",
    "You need to evaluate the complexity of the question and give a complete analysis of the quiz. Only use at max 50 words for complexity analysis. \n",
    "if the quiz is not at per with the cognitive and analytical abilities of the students,\\\n",
    "update the quiz questions which needs to be changed and change the tone such that it perfectly fits the student abilities\n",
    "Quiz_MCQs:\n",
    "{quiz}\n",
    "\n",
    "Check from an expert English Writer of the above quiz:\n",
    "\"\"\""
   ]
  },
  {
   "cell_type": "code",
   "execution_count": 22,
   "id": "66c28cb7",
   "metadata": {},
   "outputs": [],
   "source": [
    "quiz_evaluation_prompt=PromptTemplate(input_variables=[\"subject\", \"quiz\"], template=TEMPLATE2)\n"
   ]
  },
  {
   "cell_type": "code",
   "execution_count": 23,
   "id": "4088e02a",
   "metadata": {},
   "outputs": [],
   "source": [
    "review_chain=LLMChain(llm=llm, prompt=quiz_evaluation_prompt, output_key=\"review\", verbose=True)\n"
   ]
  },
  {
   "cell_type": "code",
   "execution_count": 24,
   "id": "0ce78fab",
   "metadata": {},
   "outputs": [],
   "source": [
    "generate_evaluate_chain=SequentialChain(chains=[quiz_chain, review_chain], input_variables=[\"text\", \"number\", \"subject\", \"tone\", \"response_json\"],\n",
    "                                        output_variables=[\"quiz\", \"review\"], verbose=True,)"
   ]
  },
  {
   "cell_type": "code",
   "execution_count": 25,
   "id": "3e9cb842",
   "metadata": {},
   "outputs": [],
   "source": [
    "file_path=r\"/Users/mac/mcqgene/data.txt\""
   ]
  },
  {
   "cell_type": "code",
   "execution_count": 26,
   "id": "db7ae9ff",
   "metadata": {},
   "outputs": [
    {
     "data": {
      "text/plain": [
       "'/Users/mac/mcqgene/data.txt'"
      ]
     },
     "execution_count": 26,
     "metadata": {},
     "output_type": "execute_result"
    }
   ],
   "source": [
    "file_path\n"
   ]
  },
  {
   "cell_type": "code",
   "execution_count": 27,
   "id": "fa021d16",
   "metadata": {},
   "outputs": [],
   "source": [
    "with open(file_path, 'r') as file:\n",
    "    TEXT = file.read()"
   ]
  },
  {
   "cell_type": "code",
   "execution_count": 29,
   "id": "385a8bdb",
   "metadata": {},
   "outputs": [
    {
     "name": "stdout",
     "output_type": "stream",
     "text": [
      "Machine learning (ML) is a field of Artificial Intelligence (AI) that enables systems to learn from data, identify patterns, and make decisions with minimal human intervention, rather than being explicitly programmed. It uses algorithms to analyze large datasets, improving performance as it is exposed to more data over time. Key applications include product recommendations, fraud detection, language translation, and optimizing supply chains. \n",
      "How It Works\n",
      "1. Data Collection & Preprocessing:\n",
      "Large datasets are collected and prepared for the algorithms. This involves cleaning the data (correcting errors, removing duplicates) and transforming it into a suitable, consistent format. \n",
      "2. Model Training:\n",
      "Algorithms are trained on this data to identify patterns and relationships. The more data the model processes, the better it gets at its task. \n",
      "3. Model Output:\n",
      "The result of training is a machine learning model that can be used to make predictions or classifications on new, unseen data. \n",
      "Types of Machine Learning\n",
      "Supervised Learning:\n",
      "The algorithm is trained on labeled data, meaning it learns from input-output pairs. For example, it could be trained on images of cats and dogs to learn to identify them. \n",
      "Unsupervised Learning:\n",
      "The algorithm works with unlabeled data, finding patterns and structures on its own. This is used for tasks like segmenting customers into different groups based on their behaviors. \n",
      "Key Applications\n",
      "E-commerce: Recommendation engines suggest products to customers based on past purchases. \n",
      "Fraud Detection: Identifying suspicious transactions in financial services. \n",
      "Natural Language Processing (NLP): Enables tasks like language translation, sentiment analysis, and content generation. \n",
      "Supply Chain Management: Optimizing inventory levels, predicting demand, and managing logistics. \n",
      "Human Resources: Streamlining hiring by filtering applications and predicting employee turnover. \n",
      "Why it Matters\n",
      "Machine learning automates analytical model building, allowing systems to learn and improve from experience. This capability is crucial for various industries to gain insights from vast amounts of data, improve efficiency, and make more informed decisions. \n"
     ]
    }
   ],
   "source": [
    "print(TEXT)"
   ]
  },
  {
   "cell_type": "code",
   "execution_count": 30,
   "id": "ae5cf51b",
   "metadata": {},
   "outputs": [
    {
     "data": {
      "text/plain": [
       "'{\"1\": {\"mcq\": \"multiple choice question\", \"options\": {\"a\": \"choice here\", \"b\": \"choice here\", \"c\": \"choice here\", \"d\": \"choice here\"}, \"correct\": \"correct answer\"}, \"2\": {\"mcq\": \"multiple choice question\", \"options\": {\"a\": \"choice here\", \"b\": \"choice here\", \"c\": \"choice here\", \"d\": \"choice here\"}, \"correct\": \"correct answer\"}, \"3\": {\"mcq\": \"multiple choice question\", \"options\": {\"a\": \"choice here\", \"b\": \"choice here\", \"c\": \"choice here\", \"d\": \"choice here\"}, \"correct\": \"correct answer\"}}'"
      ]
     },
     "execution_count": 30,
     "metadata": {},
     "output_type": "execute_result"
    }
   ],
   "source": [
    "# Serialize the Python dictionary into a JSON-formatted string\n",
    "json.dumps(RESPONSE_JSON)"
   ]
  },
  {
   "cell_type": "code",
   "execution_count": 32,
   "id": "9c4f517f",
   "metadata": {},
   "outputs": [],
   "source": [
    "NUMBER=5 \n",
    "SUBJECT=\"Machine Learning\"\n",
    "TONE=\"simple\""
   ]
  },
  {
   "cell_type": "code",
   "execution_count": 33,
   "id": "4ef15883",
   "metadata": {},
   "outputs": [
    {
     "name": "stderr",
     "output_type": "stream",
     "text": [
      "/var/folders/hm/5z1ct5rn1ts5_kqmggzhb1nh0000gn/T/ipykernel_48206/347235031.py:3: LangChainDeprecationWarning: The method `Chain.__call__` was deprecated in langchain 0.1.0 and will be removed in 1.0. Use :meth:`~invoke` instead.\n",
      "  response=generate_evaluate_chain(\n"
     ]
    },
    {
     "name": "stdout",
     "output_type": "stream",
     "text": [
      "\n",
      "\n",
      "\u001b[1m> Entering new SequentialChain chain...\u001b[0m\n",
      "\n",
      "\n",
      "\u001b[1m> Entering new LLMChain chain...\u001b[0m\n",
      "Prompt after formatting:\n",
      "\u001b[32;1m\u001b[1;3m\n",
      "Text:Machine learning (ML) is a field of Artificial Intelligence (AI) that enables systems to learn from data, identify patterns, and make decisions with minimal human intervention, rather than being explicitly programmed. It uses algorithms to analyze large datasets, improving performance as it is exposed to more data over time. Key applications include product recommendations, fraud detection, language translation, and optimizing supply chains. \n",
      "How It Works\n",
      "1. Data Collection & Preprocessing:\n",
      "Large datasets are collected and prepared for the algorithms. This involves cleaning the data (correcting errors, removing duplicates) and transforming it into a suitable, consistent format. \n",
      "2. Model Training:\n",
      "Algorithms are trained on this data to identify patterns and relationships. The more data the model processes, the better it gets at its task. \n",
      "3. Model Output:\n",
      "The result of training is a machine learning model that can be used to make predictions or classifications on new, unseen data. \n",
      "Types of Machine Learning\n",
      "Supervised Learning:\n",
      "The algorithm is trained on labeled data, meaning it learns from input-output pairs. For example, it could be trained on images of cats and dogs to learn to identify them. \n",
      "Unsupervised Learning:\n",
      "The algorithm works with unlabeled data, finding patterns and structures on its own. This is used for tasks like segmenting customers into different groups based on their behaviors. \n",
      "Key Applications\n",
      "E-commerce: Recommendation engines suggest products to customers based on past purchases. \n",
      "Fraud Detection: Identifying suspicious transactions in financial services. \n",
      "Natural Language Processing (NLP): Enables tasks like language translation, sentiment analysis, and content generation. \n",
      "Supply Chain Management: Optimizing inventory levels, predicting demand, and managing logistics. \n",
      "Human Resources: Streamlining hiring by filtering applications and predicting employee turnover. \n",
      "Why it Matters\n",
      "Machine learning automates analytical model building, allowing systems to learn and improve from experience. This capability is crucial for various industries to gain insights from vast amounts of data, improve efficiency, and make more informed decisions. \n",
      "You are an expert MCQ maker. Given the above text, it is your job to create a quiz  of 5 multiple choice questions for Machine Learning students in simple tone. \n",
      "Make sure the questions are not repeated and check all the questions to be conforming the text as well.\n",
      "Make sure to format your response like  RESPONSE_JSON below  and use it as a guide. Ensure to make 5 MCQs\n",
      "### RESPONSE_JSON\n",
      "{\"1\": {\"mcq\": \"multiple choice question\", \"options\": {\"a\": \"choice here\", \"b\": \"choice here\", \"c\": \"choice here\", \"d\": \"choice here\"}, \"correct\": \"correct answer\"}, \"2\": {\"mcq\": \"multiple choice question\", \"options\": {\"a\": \"choice here\", \"b\": \"choice here\", \"c\": \"choice here\", \"d\": \"choice here\"}, \"correct\": \"correct answer\"}, \"3\": {\"mcq\": \"multiple choice question\", \"options\": {\"a\": \"choice here\", \"b\": \"choice here\", \"c\": \"choice here\", \"d\": \"choice here\"}, \"correct\": \"correct answer\"}}\n",
      "\n",
      "\u001b[0m\n",
      "\n",
      "\u001b[1m> Finished chain.\u001b[0m\n",
      "\n",
      "\n",
      "\u001b[1m> Entering new LLMChain chain...\u001b[0m\n",
      "Prompt after formatting:\n",
      "\u001b[32;1m\u001b[1;3m\n",
      "You are an expert english grammarian and writer. Given a Multiple Choice Quiz for Machine Learning students.You need to evaluate the complexity of the question and give a complete analysis of the quiz. Only use at max 50 words for complexity analysis. \n",
      "if the quiz is not at per with the cognitive and analytical abilities of the students,update the quiz questions which needs to be changed and change the tone such that it perfectly fits the student abilities\n",
      "Quiz_MCQs:\n",
      "\n",
      "{\n",
      "    \"1\": {\n",
      "        \"mcq\": \"What is the main goal of machine learning?\",\n",
      "        \"options\": {\n",
      "            \"a\": \"To explicitly program systems\",\n",
      "            \"b\": \"To learn from data and make decisions\",\n",
      "            \"c\": \"To collect and preprocess data\",\n",
      "            \"d\": \"To transform data into consistent format\"\n",
      "        },\n",
      "        \"correct\": \"b\"\n",
      "    },\n",
      "    \"2\": {\n",
      "        \"mcq\": \"Which type of machine learning uses labeled data for training?\",\n",
      "        \"options\": {\n",
      "            \"a\": \"Supervised Learning\",\n",
      "            \"b\": \"Unsupervised Learning\",\n",
      "            \"c\": \"Reinforcement Learning\",\n",
      "            \"d\": \"Semi-supervised Learning\"\n",
      "        },\n",
      "        \"correct\": \"a\"\n",
      "    },\n",
      "    \"3\": {\n",
      "        \"mcq\": \"What is an example of a key application of machine learning in e-commerce?\",\n",
      "        \"options\": {\n",
      "            \"a\": \"Optimizing inventory levels\",\n",
      "            \"b\": \"Predicting employee turnover\",\n",
      "            \"c\": \"Recommendation engines for products\",\n",
      "            \"d\": \"Identifying fraudulent transactions\"\n",
      "        },\n",
      "        \"correct\": \"c\"\n",
      "    },\n",
      "    \"4\": {\n",
      "        \"mcq\": \"What is the process of cleaning and transforming data before training the algorithms called?\",\n",
      "        \"options\": {\n",
      "            \"a\": \"Model Training\",\n",
      "            \"b\": \"Data Collection\",\n",
      "            \"c\": \"Data Preprocessing\",\n",
      "            \"d\": \"Model Output\"\n",
      "        },\n",
      "        \"correct\": \"c\"\n",
      "    },\n",
      "    \"5\": {\n",
      "        \"mcq\": \"Why is machine learning important for industries?\",\n",
      "        \"options\": {\n",
      "            \"a\": \"To make decisions without data\",\n",
      "            \"b\": \"To gain insights from vast amounts of data\",\n",
      "            \"c\": \"To avoid using algorithms\",\n",
      "            \"d\": \"To manually analyze data\"\n",
      "        },\n",
      "        \"correct\": \"b\"\n",
      "    }\n",
      "}\n",
      "\n",
      "Check from an expert English Writer of the above quiz:\n",
      "\u001b[0m\n",
      "\n",
      "\u001b[1m> Finished chain.\u001b[0m\n",
      "\n",
      "\u001b[1m> Finished chain.\u001b[0m\n"
     ]
    }
   ],
   "source": [
    "#How to setup Token Usage Tracking in LangChain\n",
    "with get_openai_callback() as cb:\n",
    "    response=generate_evaluate_chain(\n",
    "        {\n",
    "            \"text\": TEXT,\n",
    "            \"number\": NUMBER,\n",
    "            \"subject\":SUBJECT,\n",
    "            \"tone\": TONE,\n",
    "            \"response_json\": json.dumps(RESPONSE_JSON)\n",
    "        }\n",
    "        )"
   ]
  },
  {
   "cell_type": "code",
   "execution_count": 34,
   "id": "17575076",
   "metadata": {},
   "outputs": [
    {
     "name": "stdout",
     "output_type": "stream",
     "text": [
      "Total Tokens:1608\n",
      "Prompt Tokens:1166\n",
      "Completion Tokens:442\n",
      "Total Cost:0.001246\n"
     ]
    }
   ],
   "source": [
    "print(f\"Total Tokens:{cb.total_tokens}\")\n",
    "print(f\"Prompt Tokens:{cb.prompt_tokens}\")\n",
    "print(f\"Completion Tokens:{cb.completion_tokens}\")\n",
    "print(f\"Total Cost:{cb.total_cost}\")"
   ]
  },
  {
   "cell_type": "code",
   "execution_count": 35,
   "id": "fe4d5fd1",
   "metadata": {},
   "outputs": [
    {
     "data": {
      "text/plain": [
       "{'text': 'Machine learning (ML) is a field of Artificial Intelligence (AI) that enables systems to learn from data, identify patterns, and make decisions with minimal human intervention, rather than being explicitly programmed. It uses algorithms to analyze large datasets, improving performance as it is exposed to more data over time. Key applications include product recommendations, fraud detection, language translation, and optimizing supply chains. \\nHow It Works\\n1. Data Collection & Preprocessing:\\nLarge datasets are collected and prepared for the algorithms. This involves cleaning the data (correcting errors, removing duplicates) and transforming it into a suitable, consistent format. \\n2. Model Training:\\nAlgorithms are trained on this data to identify patterns and relationships. The more data the model processes, the better it gets at its task. \\n3. Model Output:\\nThe result of training is a machine learning model that can be used to make predictions or classifications on new, unseen data. \\nTypes of Machine Learning\\nSupervised Learning:\\nThe algorithm is trained on labeled data, meaning it learns from input-output pairs. For example, it could be trained on images of cats and dogs to learn to identify them. \\nUnsupervised Learning:\\nThe algorithm works with unlabeled data, finding patterns and structures on its own. This is used for tasks like segmenting customers into different groups based on their behaviors. \\nKey Applications\\nE-commerce: Recommendation engines suggest products to customers based on past purchases. \\nFraud Detection: Identifying suspicious transactions in financial services. \\nNatural Language Processing (NLP): Enables tasks like language translation, sentiment analysis, and content generation. \\nSupply Chain Management: Optimizing inventory levels, predicting demand, and managing logistics. \\nHuman Resources: Streamlining hiring by filtering applications and predicting employee turnover. \\nWhy it Matters\\nMachine learning automates analytical model building, allowing systems to learn and improve from experience. This capability is crucial for various industries to gain insights from vast amounts of data, improve efficiency, and make more informed decisions. ',\n",
       " 'number': 5,\n",
       " 'subject': 'Machine Learning',\n",
       " 'tone': 'simple',\n",
       " 'response_json': '{\"1\": {\"mcq\": \"multiple choice question\", \"options\": {\"a\": \"choice here\", \"b\": \"choice here\", \"c\": \"choice here\", \"d\": \"choice here\"}, \"correct\": \"correct answer\"}, \"2\": {\"mcq\": \"multiple choice question\", \"options\": {\"a\": \"choice here\", \"b\": \"choice here\", \"c\": \"choice here\", \"d\": \"choice here\"}, \"correct\": \"correct answer\"}, \"3\": {\"mcq\": \"multiple choice question\", \"options\": {\"a\": \"choice here\", \"b\": \"choice here\", \"c\": \"choice here\", \"d\": \"choice here\"}, \"correct\": \"correct answer\"}}',\n",
       " 'quiz': '\\n{\\n    \"1\": {\\n        \"mcq\": \"What is the main goal of machine learning?\",\\n        \"options\": {\\n            \"a\": \"To explicitly program systems\",\\n            \"b\": \"To learn from data and make decisions\",\\n            \"c\": \"To collect and preprocess data\",\\n            \"d\": \"To transform data into consistent format\"\\n        },\\n        \"correct\": \"b\"\\n    },\\n    \"2\": {\\n        \"mcq\": \"Which type of machine learning uses labeled data for training?\",\\n        \"options\": {\\n            \"a\": \"Supervised Learning\",\\n            \"b\": \"Unsupervised Learning\",\\n            \"c\": \"Reinforcement Learning\",\\n            \"d\": \"Semi-supervised Learning\"\\n        },\\n        \"correct\": \"a\"\\n    },\\n    \"3\": {\\n        \"mcq\": \"What is an example of a key application of machine learning in e-commerce?\",\\n        \"options\": {\\n            \"a\": \"Optimizing inventory levels\",\\n            \"b\": \"Predicting employee turnover\",\\n            \"c\": \"Recommendation engines for products\",\\n            \"d\": \"Identifying fraudulent transactions\"\\n        },\\n        \"correct\": \"c\"\\n    },\\n    \"4\": {\\n        \"mcq\": \"What is the process of cleaning and transforming data before training the algorithms called?\",\\n        \"options\": {\\n            \"a\": \"Model Training\",\\n            \"b\": \"Data Collection\",\\n            \"c\": \"Data Preprocessing\",\\n            \"d\": \"Model Output\"\\n        },\\n        \"correct\": \"c\"\\n    },\\n    \"5\": {\\n        \"mcq\": \"Why is machine learning important for industries?\",\\n        \"options\": {\\n            \"a\": \"To make decisions without data\",\\n            \"b\": \"To gain insights from vast amounts of data\",\\n            \"c\": \"To avoid using algorithms\",\\n            \"d\": \"To manually analyze data\"\\n        },\\n        \"correct\": \"b\"\\n    }\\n}',\n",
       " 'review': \"The complexity of the quiz is appropriate for Machine Learning students. The questions are clear and test foundational knowledge. No changes are needed as the tone and difficulty level align well with the target audience's abilities.\"}"
      ]
     },
     "execution_count": 35,
     "metadata": {},
     "output_type": "execute_result"
    }
   ],
   "source": [
    "response\n"
   ]
  },
  {
   "cell_type": "code",
   "execution_count": 36,
   "id": "56b8b5c2",
   "metadata": {},
   "outputs": [],
   "source": [
    "quiz=response.get(\"quiz\")"
   ]
  },
  {
   "cell_type": "code",
   "execution_count": 41,
   "id": "0e8fbd95",
   "metadata": {},
   "outputs": [
    {
     "name": "stdout",
     "output_type": "stream",
     "text": [
      "{'1': {'mcq': 'What is the main goal of machine learning?', 'options': {'a': 'To explicitly program systems', 'b': 'To learn from data and make decisions', 'c': 'To collect and preprocess data', 'd': 'To transform data into consistent format'}, 'correct': 'b'}, '2': {'mcq': 'Which type of machine learning uses labeled data for training?', 'options': {'a': 'Supervised Learning', 'b': 'Unsupervised Learning', 'c': 'Reinforcement Learning', 'd': 'Semi-supervised Learning'}, 'correct': 'a'}, '3': {'mcq': 'What is an example of a key application of machine learning in e-commerce?', 'options': {'a': 'Optimizing inventory levels', 'b': 'Predicting employee turnover', 'c': 'Recommendation engines for products', 'd': 'Identifying fraudulent transactions'}, 'correct': 'c'}, '4': {'mcq': 'What is the process of cleaning and transforming data before training the algorithms called?', 'options': {'a': 'Model Training', 'b': 'Data Collection', 'c': 'Data Preprocessing', 'd': 'Model Output'}, 'correct': 'c'}, '5': {'mcq': 'Why is machine learning important for industries?', 'options': {'a': 'To make decisions without data', 'b': 'To gain insights from vast amounts of data', 'c': 'To avoid using algorithms', 'd': 'To manually analyze data'}, 'correct': 'b'}}\n"
     ]
    }
   ],
   "source": [
    "print(quiz) \n"
   ]
  },
  {
   "cell_type": "code",
   "execution_count": 42,
   "id": "489433d0",
   "metadata": {},
   "outputs": [],
   "source": [
    "quiz_table_data = []\n",
    "for key, value in quiz.items():\n",
    "    mcq = value[\"mcq\"]\n",
    "    options = \" | \".join(\n",
    "        [\n",
    "            f\"{option}: {option_value}\"\n",
    "            for option, option_value in value[\"options\"].items()\n",
    "            ]\n",
    "        )\n",
    "    correct = value[\"correct\"]\n",
    "    quiz_table_data.append({\"MCQ\": mcq, \"Choices\": options, \"Correct\": correct})"
   ]
  },
  {
   "cell_type": "code",
   "execution_count": 43,
   "id": "f7ee6a6b",
   "metadata": {},
   "outputs": [
    {
     "data": {
      "text/plain": [
       "[{'MCQ': 'What is the main goal of machine learning?',\n",
       "  'Choices': 'a: To explicitly program systems | b: To learn from data and make decisions | c: To collect and preprocess data | d: To transform data into consistent format',\n",
       "  'Correct': 'b'},\n",
       " {'MCQ': 'Which type of machine learning uses labeled data for training?',\n",
       "  'Choices': 'a: Supervised Learning | b: Unsupervised Learning | c: Reinforcement Learning | d: Semi-supervised Learning',\n",
       "  'Correct': 'a'},\n",
       " {'MCQ': 'What is an example of a key application of machine learning in e-commerce?',\n",
       "  'Choices': 'a: Optimizing inventory levels | b: Predicting employee turnover | c: Recommendation engines for products | d: Identifying fraudulent transactions',\n",
       "  'Correct': 'c'},\n",
       " {'MCQ': 'What is the process of cleaning and transforming data before training the algorithms called?',\n",
       "  'Choices': 'a: Model Training | b: Data Collection | c: Data Preprocessing | d: Model Output',\n",
       "  'Correct': 'c'},\n",
       " {'MCQ': 'Why is machine learning important for industries?',\n",
       "  'Choices': 'a: To make decisions without data | b: To gain insights from vast amounts of data | c: To avoid using algorithms | d: To manually analyze data',\n",
       "  'Correct': 'b'}]"
      ]
     },
     "execution_count": 43,
     "metadata": {},
     "output_type": "execute_result"
    }
   ],
   "source": [
    "quiz_table_data\n"
   ]
  },
  {
   "cell_type": "code",
   "execution_count": 45,
   "id": "8abae889",
   "metadata": {},
   "outputs": [
    {
     "data": {
      "text/html": [
       "<div>\n",
       "<style scoped>\n",
       "    .dataframe tbody tr th:only-of-type {\n",
       "        vertical-align: middle;\n",
       "    }\n",
       "\n",
       "    .dataframe tbody tr th {\n",
       "        vertical-align: top;\n",
       "    }\n",
       "\n",
       "    .dataframe thead th {\n",
       "        text-align: right;\n",
       "    }\n",
       "</style>\n",
       "<table border=\"1\" class=\"dataframe\">\n",
       "  <thead>\n",
       "    <tr style=\"text-align: right;\">\n",
       "      <th></th>\n",
       "      <th>MCQ</th>\n",
       "      <th>Choices</th>\n",
       "      <th>Correct</th>\n",
       "    </tr>\n",
       "  </thead>\n",
       "  <tbody>\n",
       "    <tr>\n",
       "      <th>0</th>\n",
       "      <td>What is the main goal of machine learning?</td>\n",
       "      <td>a: To explicitly program systems | b: To learn...</td>\n",
       "      <td>b</td>\n",
       "    </tr>\n",
       "    <tr>\n",
       "      <th>1</th>\n",
       "      <td>Which type of machine learning uses labeled da...</td>\n",
       "      <td>a: Supervised Learning | b: Unsupervised Learn...</td>\n",
       "      <td>a</td>\n",
       "    </tr>\n",
       "    <tr>\n",
       "      <th>2</th>\n",
       "      <td>What is an example of a key application of mac...</td>\n",
       "      <td>a: Optimizing inventory levels | b: Predicting...</td>\n",
       "      <td>c</td>\n",
       "    </tr>\n",
       "    <tr>\n",
       "      <th>3</th>\n",
       "      <td>What is the process of cleaning and transformi...</td>\n",
       "      <td>a: Model Training | b: Data Collection | c: Da...</td>\n",
       "      <td>c</td>\n",
       "    </tr>\n",
       "    <tr>\n",
       "      <th>4</th>\n",
       "      <td>Why is machine learning important for industries?</td>\n",
       "      <td>a: To make decisions without data | b: To gain...</td>\n",
       "      <td>b</td>\n",
       "    </tr>\n",
       "  </tbody>\n",
       "</table>\n",
       "</div>"
      ],
      "text/plain": [
       "                                                 MCQ  \\\n",
       "0         What is the main goal of machine learning?   \n",
       "1  Which type of machine learning uses labeled da...   \n",
       "2  What is an example of a key application of mac...   \n",
       "3  What is the process of cleaning and transformi...   \n",
       "4  Why is machine learning important for industries?   \n",
       "\n",
       "                                             Choices Correct  \n",
       "0  a: To explicitly program systems | b: To learn...       b  \n",
       "1  a: Supervised Learning | b: Unsupervised Learn...       a  \n",
       "2  a: Optimizing inventory levels | b: Predicting...       c  \n",
       "3  a: Model Training | b: Data Collection | c: Da...       c  \n",
       "4  a: To make decisions without data | b: To gain...       b  "
      ]
     },
     "execution_count": 45,
     "metadata": {},
     "output_type": "execute_result"
    }
   ],
   "source": [
    "quiz=pd.DataFrame(quiz_table_data)\n",
    "quiz\n"
   ]
  },
  {
   "cell_type": "code",
   "execution_count": 46,
   "id": "bdd9d83d",
   "metadata": {},
   "outputs": [],
   "source": [
    "quiz.to_csv(\"machinelearning.csv\",index=False)\n"
   ]
  },
  {
   "cell_type": "code",
   "execution_count": 47,
   "id": "e47b97ce",
   "metadata": {},
   "outputs": [
    {
     "data": {
      "text/plain": [
       "'09_04_2025_04_13_36'"
      ]
     },
     "execution_count": 47,
     "metadata": {},
     "output_type": "execute_result"
    }
   ],
   "source": [
    "from datetime import datetime\n",
    "datetime.now().strftime('%m_%d_%Y_%H_%M_%S')"
   ]
  },
  {
   "cell_type": "code",
   "execution_count": null,
   "id": "e5664ab4",
   "metadata": {},
   "outputs": [],
   "source": []
  }
 ],
 "metadata": {
  "kernelspec": {
   "display_name": "Python 3",
   "language": "python",
   "name": "python3"
  },
  "language_info": {
   "codemirror_mode": {
    "name": "ipython",
    "version": 3
   },
   "file_extension": ".py",
   "mimetype": "text/x-python",
   "name": "python",
   "nbconvert_exporter": "python",
   "pygments_lexer": "ipython3",
   "version": "3.12.0"
  }
 },
 "nbformat": 4,
 "nbformat_minor": 5
}
